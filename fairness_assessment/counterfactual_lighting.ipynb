{
 "cells": [
  {
   "cell_type": "code",
   "execution_count": 3,
   "id": "16a83b85",
   "metadata": {},
   "outputs": [],
   "source": [
    "import pandas as pd"
   ]
  },
  {
   "cell_type": "markdown",
   "id": "62835e28",
   "metadata": {},
   "source": [
    "## Exam the result difference after change the lighting for test set"
   ]
  },
  {
   "cell_type": "markdown",
   "id": "b36798fb",
   "metadata": {},
   "source": [
    "#### 1. load file"
   ]
  },
  {
   "cell_type": "code",
   "execution_count": 12,
   "id": "8c3365f0",
   "metadata": {},
   "outputs": [],
   "source": [
    "# load data\n",
    "\n",
    "# file: prediction on test - original\n",
    "result_dir='../../isic_results/disease/'\n",
    "run_type,version_no = 'ISIC_2019_densenet-tp40-lr1e-05-ep50-pt1-aug1', 0\n",
    "model_name = run_type.split('-')[0].split('_')[-1]\n",
    "\n",
    "original_pred_file = 'predictions.test.version_{}.csv'.format(version_no)\n",
    "light_condition_1_file = 'predictions.test.version_{}.light_all-1.5.csv'.format(version_no)\n",
    "light_condition_2_file = 'predictions.test.version_{}.light_all-0.5.csv'.format(version_no)\n",
    "\n",
    "df_pred_test = pd.read_csv(result_dir+run_type+'/'+original_pred_file)\n",
    "df_pred_test_c1 = pd.read_csv(result_dir+run_type+'/'+light_condition_1_file)\n",
    "df_pred_test_c2 = pd.read_csv(result_dir+run_type+'/'+light_condition_2_file)"
   ]
  },
  {
   "cell_type": "code",
   "execution_count": 13,
   "id": "6d7631e9",
   "metadata": {},
   "outputs": [],
   "source": [
    "targets = df_pred_test.iloc[:,16:24]\n",
    "preds =  df_pred_test.iloc[:,0:8]\n",
    "preds_c1 = df_pred_test_c1.iloc[:,0:8]\n",
    "preds_c2 = df_pred_test_c2.iloc[:,0:8]"
   ]
  },
  {
   "cell_type": "code",
   "execution_count": 20,
   "id": "43c90448",
   "metadata": {},
   "outputs": [],
   "source": [
    "conditions_files = [light_condition_1_file,light_condition_2_file]\n",
    "conditions_text = ['.'.join(each.split('.')[-3:-1]) for each in conditions_files]"
   ]
  },
  {
   "cell_type": "markdown",
   "id": "895bf500",
   "metadata": {},
   "source": [
    "#### 2. performance on different settings"
   ]
  },
  {
   "cell_type": "code",
   "execution_count": null,
   "id": "121c124b",
   "metadata": {},
   "outputs": [],
   "source": []
  }
 ],
 "metadata": {
  "kernelspec": {
   "display_name": "Python 3 (ipykernel)",
   "language": "python",
   "name": "python3"
  },
  "language_info": {
   "codemirror_mode": {
    "name": "ipython",
    "version": 3
   },
   "file_extension": ".py",
   "mimetype": "text/x-python",
   "name": "python",
   "nbconvert_exporter": "python",
   "pygments_lexer": "ipython3",
   "version": "3.8.5"
  }
 },
 "nbformat": 4,
 "nbformat_minor": 5
}
